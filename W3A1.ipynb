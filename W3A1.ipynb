{
 "cells": [
  {
   "cell_type": "code",
   "execution_count": 1,
   "metadata": {},
   "outputs": [
    {
     "data": {
      "text/plain": [
       "[1, 3, 5, 7, 9, 11, 13, 15, 17, 19, 21, 23]"
      ]
     },
     "execution_count": 1,
     "metadata": {},
     "output_type": "execute_result"
    }
   ],
   "source": [
    "# Q1\n",
    "\n",
    "#  def kework is used to create function\n",
    "\n",
    "\n",
    "def odd_num():\n",
    "    l=[]\n",
    "    for i in range(1,25):\n",
    "        if i%2 != 0:\n",
    "            l.append(i)\n",
    "\n",
    "    return l\n",
    "\n",
    "odd_num()\n",
    "  "
   ]
  },
  {
   "cell_type": "code",
   "execution_count": 15,
   "metadata": {},
   "outputs": [
    {
     "data": {
      "text/plain": [
       "(1, 2, 4)"
      ]
     },
     "execution_count": 15,
     "metadata": {},
     "output_type": "execute_result"
    }
   ],
   "source": [
    "# Q 2 \n",
    "\n",
    "# * args   are used when we are not sure about number of  input values of function \n",
    "\n",
    "# or to make a fuction which will works on any number of parameters \n",
    "\n",
    "# **kwargs   are used when we are not sure about number of  parameter values of function \n",
    "\n",
    "# and we want to give parameter as key - value pair\n",
    "\n",
    "\n",
    "\n",
    "\n",
    "def sum (*args ):\n",
    "    return args\n",
    "\n",
    "\n",
    "def sum1 (**kwargs ):\n",
    "    return kwargs\n",
    "\n",
    "sum(1,2,4)\n",
    "\n",
    "sum1(name = \"Sankte\", id = 1910384)"
   ]
  },
  {
   "cell_type": "code",
   "execution_count": 10,
   "metadata": {},
   "outputs": [
    {
     "name": "stdout",
     "output_type": "stream",
     "text": [
      "[2, 4, 6, 8, 10, 12, 14, 16, 18, 20]\n",
      "2\n",
      "4\n",
      "6\n",
      "8\n",
      "10\n"
     ]
    }
   ],
   "source": [
    "# Q3 \n",
    "\n",
    "# iterator  allows us to iterate over a sequence of elements. \n",
    "# we can access the elements of a ierable elements.\n",
    "\n",
    "# to intialiaze iterator object we use iter() method\n",
    "# to iterate over the sequence we use naext() method\n",
    "#  we can use for loop for the same \n",
    "\n",
    "l = list(range(2,21,2))\n",
    "\n",
    "print(l)\n",
    "\n",
    "l1=iter(l)\n",
    "i=0\n",
    "\n",
    "while i<5:\n",
    "    next(l1)\n"
   ]
  },
  {
   "cell_type": "code",
   "execution_count": 23,
   "metadata": {},
   "outputs": [
    {
     "name": "stdout",
     "output_type": "stream",
     "text": [
      "0\n",
      "2\n",
      "4\n",
      "6\n",
      "8\n",
      "10\n",
      "12\n",
      "14\n",
      "16\n",
      "18\n"
     ]
    }
   ],
   "source": [
    "# Q4\n",
    "\n",
    "# Generator function is kind of function where we use yeild keyword instrad of return \n",
    "# generator fuction i generally used for memory optimization purpose \n",
    "\n",
    "# yield function is used to return the iterable object\n",
    "# with memory optimization\n",
    "\n",
    "# example -\n",
    "\n",
    "\n",
    "def even_generator():\n",
    "    num =0\n",
    "    while True:\n",
    "        yield num\n",
    "        num = num +2\n",
    "\n",
    "even_no =even_generator()\n",
    "for i in range(10):\n",
    "    print(next(even_no))\n",
    "    "
   ]
  },
  {
   "cell_type": "code",
   "execution_count": 4,
   "metadata": {},
   "outputs": [
    {
     "name": "stdout",
     "output_type": "stream",
     "text": [
      "2\n",
      "3\n",
      "5\n",
      "7\n",
      "11\n",
      "13\n",
      "17\n",
      "19\n",
      "23\n",
      "29\n",
      "31\n",
      "37\n",
      "41\n",
      "43\n",
      "47\n",
      "53\n",
      "59\n",
      "61\n",
      "67\n",
      "71\n"
     ]
    }
   ],
   "source": [
    "# Q 5\n",
    "\n",
    "def give_prime():\n",
    "    \n",
    "    n=2 \n",
    "\n",
    "    while True:\n",
    "        if is_prime(n):\n",
    "            yield n\n",
    "        n=n+1\n",
    "        \n",
    "    \n",
    "    \n",
    "\n",
    "def is_prime(x):\n",
    "    if x <2:\n",
    "        return 0\n",
    "    else:\n",
    "        for i in range(2 ,int(x ** 0.5)+1):\n",
    "            if x%i == 0: \n",
    "                return 0\n",
    "            \n",
    "        \n",
    "        return 1 \n",
    "            \n",
    "\n",
    "\n",
    "prime_no = give_prime()\n",
    "\n",
    "for i in range (20):\n",
    "    print(next(prime_no))"
   ]
  },
  {
   "cell_type": "code",
   "execution_count": 4,
   "metadata": {},
   "outputs": [
    {
     "name": "stdout",
     "output_type": "stream",
     "text": [
      "0\n",
      "1\n",
      "1\n",
      "2\n",
      "3\n",
      "5\n",
      "8\n",
      "13\n",
      "21\n",
      "34\n"
     ]
    }
   ],
   "source": [
    "# Q6\n",
    "\n",
    "i=0\n",
    "a,b =0,1\n",
    "\n",
    "while i < 10:\n",
    "    print(a)\n",
    "    c= a+b\n",
    "    a=b\n",
    "    b=c\n",
    "    i=i+1"
   ]
  },
  {
   "cell_type": "code",
   "execution_count": 7,
   "metadata": {},
   "outputs": [
    {
     "name": "stdout",
     "output_type": "stream",
     "text": [
      "['p', 'w', 's', 'k', 'i', 'l', 'l', 's']\n"
     ]
    }
   ],
   "source": [
    "# Q7\n",
    "  \n",
    "s1 = 'pwskills'\n",
    "\n",
    "l =[i for i in s1]\n",
    "print(l)\n"
   ]
  },
  {
   "cell_type": "code",
   "execution_count": 34,
   "metadata": {},
   "outputs": [
    {
     "name": "stdout",
     "output_type": "stream",
     "text": [
      "this is not pallindrome \n"
     ]
    }
   ],
   "source": [
    "# Q8\n",
    " \n",
    "\n",
    "number =int(input(\"enter on number \"))\n",
    "\n",
    "\n",
    "def reverse(number):\n",
    "    s=str(number)\n",
    "    n= len(s)\n",
    "    sum =0\n",
    "\n",
    "    while n != 0:\n",
    "        sum= sum+(number%10)*10**(n-1)\n",
    "        number =number //10\n",
    "        n=n-1\n",
    "    \n",
    "    return sum\n",
    "\n",
    "\n",
    "    \n",
    "\n",
    "reversed_number = reverse(number)\n",
    "\n",
    "if reversed_number == number:\n",
    "    print (\"this is pallindrome\")\n",
    "else:\n",
    "    print(\"this is not pallindrome \")\n",
    "\n",
    "\n",
    "\n"
   ]
  },
  {
   "cell_type": "code",
   "execution_count": 8,
   "metadata": {},
   "outputs": [
    {
     "name": "stdout",
     "output_type": "stream",
     "text": [
      "[1, 3, 5, 7, 9, 11, 13, 15, 17, 19, 21, 23, 25, 27, 29, 31, 33, 35, 37, 39, 41, 43, 45, 47, 49, 51, 53, 55, 57, 59, 61, 63, 65, 67, 69, 71, 73, 75, 77, 79, 81, 83, 85, 87, 89, 91, 93, 95, 97, 99]\n"
     ]
    }
   ],
   "source": [
    "# Q9\n",
    "\n",
    "odd_no =[i for i in range (100) if i %2 != 0]\n",
    "print(odd_no)\n"
   ]
  }
 ],
 "metadata": {
  "kernelspec": {
   "display_name": "Python 3",
   "language": "python",
   "name": "python3"
  },
  "language_info": {
   "codemirror_mode": {
    "name": "ipython",
    "version": 3
   },
   "file_extension": ".py",
   "mimetype": "text/x-python",
   "name": "python",
   "nbconvert_exporter": "python",
   "pygments_lexer": "ipython3",
   "version": "3.11.0"
  },
  "orig_nbformat": 4
 },
 "nbformat": 4,
 "nbformat_minor": 2
}
